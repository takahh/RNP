{
 "cells": [
  {
   "cell_type": "code",
   "execution_count": 20,
   "metadata": {
    "collapsed": true,
    "pycharm": {
     "is_executing": false
    }
   },
   "outputs": [
    {
     "name": "stdout",
     "text": [
      "     vec_id   exp  ALA_A  ALA_C  ALA_G  ALA_U  ARG_A  ARG_C  ARG_G  ARG_U  \\\n0  2cv1_A_D  xray      0      0      0      0      0      5      1      0   \n1  2cv1_A_C  xray      0      0      0      0      1      7      1      0   \n2  2cv1_B_D  xray      0      0      0      0      0      3      0      0   \n3  1j5e_E_A  xray      0      0      0      0      1      6     10      2   \n4  1j5e_D_A  xray      0      0      0      1      1      0      1      0   \n\n   ...  TRP_U  TYR_A  TYR_C  TYR_G  TYR_U  VAL_A  VAL_C  VAL_G  VAL_U  \\\n0  ...      0      1      1      0      0      0      1      0      0   \n1  ...      0      1      0      0      0      0      1      0      0   \n2  ...      0      0      0      0      0      0      0      0      0   \n3  ...      0      0      0      1      0      1      0      0      0   \n4  ...      0      1      0      1      0      0      1      0      0   \n\n   all_chains  \n0         3.9  \n1         1.0  \n2         1.5  \n3        14.2  \n4        37.7  \n\n[5 rows x 83 columns]\n5268\n8630\n"
     ],
     "output_type": "stream"
    }
   ],
   "source": [
    "import pandas as pd\n",
    "import matplotlib.pyplot as plt\n",
    "\n",
    "file = '/Users/tkimura/Desktop/RNP/check_contact/non_redun_positives.txt'\n",
    "path = '/Users/tkimura/Desktop/RNP/summary/'\n",
    "\n",
    "df = pd.read_csv(file)\n",
    "\n",
    "print(df.head(5))\n",
    "\n",
    "def plot_hist(df, column, name):\n",
    "    fig = plt.figure()\n",
    "    df[column].plot.hist(bins=400, range=(0, 200))\n",
    "    plt.title(f'{name}')\n",
    "    plt.ylim(0,400)\n",
    "    plt.show()\n",
    "    fig.savefig(f'{path}{name}.png', dpi=1200)\n",
    "    \n",
    "#     \n",
    "# def plot_hist(df, column, name):\n",
    "#     fig = plt.figure()\n",
    "#     df[column].plot.hist(bins=0.1, range=(1,10))\n",
    "#     plt.title(f'{name}')\n",
    "#     plt.show()\n",
    "#     fig.savefig(f'{path}{name}.png', dpi=1200)\n",
    "\n",
    "df_xray = df[df['exp'] == 'xray']\n",
    "df_EM = df[df['exp'] == 'EM']\n",
    "\n",
    "# plot_hist(df, 'all_chains', 'Fraction of Hydrogen Bonds with Other Chains (all)')\n",
    "# plot_hist(df_xray, 'all_chains', 'Fraction of Hydrogen Bonds with Other Chains (xray)')\n",
    "# plot_hist(df_EM, 'all_chains', 'Fraction of Hydrogen Bonds with Other Chains (EM)')\n",
    "\n",
    "print(len(df_EM))\n",
    "print(len(df_xray))"
   ]
  }
 ],
 "metadata": {
  "language_info": {
   "codemirror_mode": {
    "name": "ipython",
    "version": 2
   },
   "file_extension": ".py",
   "mimetype": "text/x-python",
   "name": "python",
   "nbconvert_exporter": "python",
   "pygments_lexer": "ipython2",
   "version": "2.7.6"
  },
  "kernelspec": {
   "name": "python3",
   "language": "python",
   "display_name": "Python 3"
  },
  "pycharm": {
   "stem_cell": {
    "cell_type": "raw",
    "source": [],
    "metadata": {
     "collapsed": false
    }
   }
  }
 },
 "nbformat": 4,
 "nbformat_minor": 0
}