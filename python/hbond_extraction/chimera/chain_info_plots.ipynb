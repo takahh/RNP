{
 "cells": [
  {
   "cell_type": "code",
   "execution_count": 1,
   "metadata": {
    "collapsed": true,
    "pycharm": {
     "is_executing": false,
     "name": "#%%\n"
    }
   },
   "outputs": [
    {
     "data": {
      "text/plain": "<Figure size 640x480 with 1 Axes>"
     },
     "metadata": {},
     "output_type": "display_data"
    },
    {
     "data": {
      "text/plain": "<Figure size 640x480 with 1 Axes>"
     },
     "metadata": {},
     "output_type": "display_data"
    },
    {
     "data": {
      "text/plain": "<Figure size 640x480 with 1 Axes>"
     },
     "metadata": {},
     "output_type": "display_data"
    },
    {
     "data": {
      "text/plain": "<Figure size 640x480 with 1 Axes>"
     },
     "metadata": {},
     "output_type": "display_data"
    },
    {
     "data": {
      "text/plain": "<Figure size 640x480 with 1 Axes>"
     },
     "metadata": {},
     "output_type": "display_data"
    },
    {
     "data": {
      "text/plain": "<Figure size 640x480 with 1 Axes>"
     },
     "metadata": {},
     "output_type": "display_data"
    },
    {
     "data": {
      "text/plain": "<Figure size 640x480 with 1 Axes>"
     },
     "metadata": {},
     "output_type": "display_data"
    },
    {
     "data": {
      "text/plain": "<Figure size 640x480 with 1 Axes>"
     },
     "metadata": {},
     "output_type": "display_data"
    },
    {
     "data": {
      "text/plain": "<Figure size 640x480 with 1 Axes>"
     },
     "metadata": {},
     "output_type": "display_data"
    },
    {
     "data": {
      "text/plain": "<Figure size 640x480 with 1 Axes>"
     },
     "metadata": {},
     "output_type": "display_data"
    },
    {
     "data": {
      "text/plain": "<Figure size 640x480 with 1 Axes>"
     },
     "metadata": {},
     "output_type": "display_data"
    },
    {
     "data": {
      "text/plain": "<Figure size 640x480 with 1 Axes>"
     },
     "metadata": {},
     "output_type": "display_data"
    },
    {
     "data": {
      "text/plain": "<Figure size 640x480 with 1 Axes>"
     },
     "metadata": {},
     "output_type": "display_data"
    },
    {
     "data": {
      "text/plain": "<Figure size 640x480 with 1 Axes>"
     },
     "metadata": {},
     "output_type": "display_data"
    }
   ],
   "source": [
    "# xprm_list = ['xray/']\n",
    "xprm_list = ['xray/', 'EM/']\n",
    "filename = 'chain_summary_calculated.csv'\n",
    "\n",
    "import pandas as pd\n",
    "from matplotlib import pyplot as plt\n",
    "import cufflinks as cf\n",
    "\n",
    "for expr in xprm_list:\n",
    "    path = '/Users/tkimura/Desktop/RNP/check_contact/chain_summary/' + expr\n",
    "    ###################################################\n",
    "    # histogram\n",
    "    ####################################################\n",
    "    def plot_hist(df,column, name):\n",
    "        fig = plt.figure()\n",
    "        df[column].plot.hist(bins=39, range=(1,100))\n",
    "        plt.title(f'{name}')\n",
    "        plt.show()\n",
    "        fig.savefig(f'{path}{name}.png', dpi=1200)\n",
    "    \n",
    "    ####################################################\n",
    "    # pie chart (maybe this is better)\n",
    "    ####################################################\n",
    "    def plot_pie(df, column, title, name=\"\"):\n",
    "        # pie=cf.datagen.pie()\n",
    "        # df = pd.read_csv(csvfile)\n",
    "        fig = plt.figure()\n",
    "        if 'model' in column:\n",
    "            start = 0\n",
    "        else:\n",
    "            start = 1\n",
    "        label_num = len(df[column].value_counts().sort_index()[start:])\n",
    "        plt.title(f'{title}')\n",
    "        labellist = []\n",
    "        for i in range(0, label_num):\n",
    "            if i <=3:\n",
    "                labellist.append(df[column].value_counts().sort_index().index[i+start])\n",
    "            else:\n",
    "                labellist.append('')\n",
    "        plt.pie(df[column].value_counts()[start:], labels=labellist)\n",
    "        plt.legend(df[column].value_counts().sort_index()[start:].index,loc=5, ncol=2, bbox_to_anchor=(-0, 1))\n",
    "        plt.show()\n",
    "        fig.savefig(f'{path}{column}{name}.jpg', dpi=1200, bbox_inches=\"tight\")\n",
    "\n",
    "    file = path + filename\n",
    "    df = pd.read_csv(file)\n",
    "    df_p = df.loc[df['type'] == 'p']\n",
    "    df_r = df.loc[df['type'] == 'r']\n",
    "    # print(df_p.columns)\n",
    "    # plot_hist(df_p, 'r_chains', \"R Chains in contact\")\n",
    "    \n",
    "    # -------------------------------\n",
    "    # chain counts\n",
    "    # -------------------------------\n",
    "    p_chain_counts = df_p['type'].count()\n",
    "    plot_pie(df_p, 'p_chains', f'A Number of Protein Chains in \\nContact with an RNA chain\\n({p_chain_counts} RNA chains)')\n",
    "    \n",
    "    r_chain_counts = df_r['type'].count()\n",
    "    plot_pie(df_r, 'r_chains', f'A Number of RNA Chains in \\nContact with a Protein chain\\n({r_chain_counts} Protein chains)')\n",
    "    \n",
    "    # 'pdbid', 'chain', 'type', 'r_chains', 'r_hbonds', 'avg_r_hbonds',\n",
    "    #        'p_chains', 'p_hbonds', 'avg_p_hbonds', 'models', 'models_hbonds'\n",
    "    \n",
    "    # -------------------------------\n",
    "    # avg. hbond counts per chain\n",
    "    # -------------------------------\n",
    "    plot_hist(df_p, 'avg_r_hbonds', 'Average Counts of Hydrogen Bonds per RNA chain in contact')\n",
    "    plot_hist(df_r, 'avg_p_hbonds', 'Average Counts of Hydrogen Bonds per Protein chain in contact')\n",
    "    \n",
    "    # -------------------------------\n",
    "    # models\n",
    "    # -------------------------------\n",
    "    plot_pie(df_p, 'models', 'Numebr of Models in Contact\\n with a Protein Chain', 'protein')\n",
    "    plot_pie(df_r, 'models', 'Numebr of Models in Contact\\n with an RNA Chain', 'RNA')\n",
    "    plot_hist(df_r, 'models_hbonds', 'Average Counts of Hydrogen Bonds \\nof the central model')"
   ]
  }
 ],
 "metadata": {
  "language_info": {
   "codemirror_mode": {
    "name": "ipython",
    "version": 2
   },
   "file_extension": ".py",
   "mimetype": "text/x-python",
   "name": "python",
   "nbconvert_exporter": "python",
   "pygments_lexer": "ipython2",
   "version": "2.7.6"
  },
  "kernelspec": {
   "name": "python3",
   "language": "python",
   "display_name": "Python 3"
  },
  "pycharm": {
   "stem_cell": {
    "cell_type": "raw",
    "source": [],
    "metadata": {
     "collapsed": false
    }
   }
  }
 },
 "nbformat": 4,
 "nbformat_minor": 0
}