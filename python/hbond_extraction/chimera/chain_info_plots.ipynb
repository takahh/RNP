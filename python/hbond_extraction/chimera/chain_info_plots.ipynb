{
 "cells": [
  {
   "cell_type": "code",
   "execution_count": 1,
   "metadata": {
    "collapsed": true,
    "pycharm": {
     "is_executing": false,
     "name": "#%%\n"
    }
   },
   "outputs": [
    {
     "name": "stdout",
     "text": [
      "20.0662\n",
      "19.2877\n",
      "5.4236\n",
      "13.4226\n",
      "1.0\n",
      "1.0\n",
      "15.2602\n",
      "15.2602\n",
      "4.1024\n",
      "15.6279\n"
     ],
     "output_type": "stream"
    },
    {
     "data": {
      "text/plain": "<Figure size 640x480 with 1 Axes>"
     },
     "metadata": {},
     "output_type": "display_data"
    },
    {
     "data": {
      "text/plain": "<Figure size 640x480 with 1 Axes>"
     },
     "metadata": {},
     "output_type": "display_data"
    },
    {
     "data": {
      "text/plain": "<Figure size 640x480 with 1 Axes>"
     },
     "metadata": {},
     "output_type": "display_data"
    },
    {
     "data": {
      "text/plain": "<Figure size 640x480 with 1 Axes>"
     },
     "metadata": {},
     "output_type": "display_data"
    },
    {
     "data": {
      "text/plain": "<Figure size 640x480 with 1 Axes>"
     },
     "metadata": {},
     "output_type": "display_data"
    },
    {
     "data": {
      "text/plain": "<Figure size 640x480 with 1 Axes>"
     },
     "metadata": {},
     "output_type": "display_data"
    },
    {
     "data": {
      "text/plain": "<Figure size 640x480 with 1 Axes>"
     },
     "metadata": {},
     "output_type": "display_data"
    },
    {
     "data": {
      "text/plain": "<Figure size 640x480 with 1 Axes>"
     },
     "metadata": {},
     "output_type": "display_data"
    },
    {
     "data": {
      "text/plain": "<Figure size 640x480 with 1 Axes>"
     },
     "metadata": {},
     "output_type": "display_data"
    },
    {
     "data": {
      "text/plain": "<Figure size 640x480 with 1 Axes>"
     },
     "metadata": {},
     "output_type": "display_data"
    },
    {
     "data": {
      "text/plain": "<Figure size 640x480 with 1 Axes>"
     },
     "metadata": {},
     "output_type": "display_data"
    },
    {
     "data": {
      "text/plain": "<Figure size 640x480 with 1 Axes>"
     },
     "metadata": {},
     "output_type": "display_data"
    },
    {
     "data": {
      "text/plain": "<Figure size 640x480 with 1 Axes>"
     },
     "metadata": {},
     "output_type": "display_data"
    },
    {
     "data": {
      "text/plain": "<Figure size 640x480 with 1 Axes>"
     },
     "metadata": {},
     "output_type": "display_data"
    },
    {
     "data": {
      "text/plain": "<Figure size 640x480 with 1 Axes>"
     },
     "metadata": {},
     "output_type": "display_data"
    },
    {
     "traceback": [
      "\u001b[0;31m---------------------------------------------------------------------------\u001b[0m",
      "\u001b[0;31mZeroDivisionError\u001b[0m                         Traceback (most recent call last)",
      "\u001b[0;32m<ipython-input-1-3b26c7c038b1>\u001b[0m in \u001b[0;36m<module>\u001b[0;34m\u001b[0m\n\u001b[1;32m     76\u001b[0m     \u001b[0;31m# models\u001b[0m\u001b[0;34m\u001b[0m\u001b[0;34m\u001b[0m\u001b[0;34m\u001b[0m\u001b[0m\n\u001b[1;32m     77\u001b[0m     \u001b[0;31m# -------------------------------\u001b[0m\u001b[0;34m\u001b[0m\u001b[0;34m\u001b[0m\u001b[0;34m\u001b[0m\u001b[0m\n\u001b[0;32m---> 78\u001b[0;31m     \u001b[0mplot_pie\u001b[0m\u001b[0;34m(\u001b[0m\u001b[0mdf_p\u001b[0m\u001b[0;34m,\u001b[0m \u001b[0;34m'models'\u001b[0m\u001b[0;34m,\u001b[0m \u001b[0;34m'Numebr of Models in Contact\\n with a Protein Chain'\u001b[0m\u001b[0;34m,\u001b[0m \u001b[0;34m'models_per_pchain'\u001b[0m\u001b[0;34m)\u001b[0m\u001b[0;34m\u001b[0m\u001b[0;34m\u001b[0m\u001b[0m\n\u001b[0m\u001b[1;32m     79\u001b[0m     \u001b[0mplot_pie\u001b[0m\u001b[0;34m(\u001b[0m\u001b[0mdf_r\u001b[0m\u001b[0;34m,\u001b[0m \u001b[0;34m'models'\u001b[0m\u001b[0;34m,\u001b[0m \u001b[0;34m'Numebr of Models in Contact\\n with an RNA Chain'\u001b[0m\u001b[0;34m,\u001b[0m \u001b[0;34m'models_per_rchain'\u001b[0m\u001b[0;34m)\u001b[0m\u001b[0;34m\u001b[0m\u001b[0;34m\u001b[0m\u001b[0m\n\u001b[1;32m     80\u001b[0m     \u001b[0mplot_hist\u001b[0m\u001b[0;34m(\u001b[0m\u001b[0mdf_r\u001b[0m\u001b[0;34m,\u001b[0m \u001b[0;34m'models_hbonds'\u001b[0m\u001b[0;34m,\u001b[0m \u001b[0;34m'Average Counts of Hydrogen Bonds \\nof the central model'\u001b[0m\u001b[0;34m)\u001b[0m\u001b[0;34m\u001b[0m\u001b[0;34m\u001b[0m\u001b[0m\n",
      "\u001b[0;32m<ipython-input-1-3b26c7c038b1>\u001b[0m in \u001b[0;36mplot_pie\u001b[0;34m(df, column, title, name)\u001b[0m\n\u001b[1;32m     23\u001b[0m     \u001b[0;31m####################################################\u001b[0m\u001b[0;34m\u001b[0m\u001b[0;34m\u001b[0m\u001b[0;34m\u001b[0m\u001b[0m\n\u001b[1;32m     24\u001b[0m     \u001b[0;32mdef\u001b[0m \u001b[0mplot_pie\u001b[0m\u001b[0;34m(\u001b[0m\u001b[0mdf\u001b[0m\u001b[0;34m,\u001b[0m \u001b[0mcolumn\u001b[0m\u001b[0;34m,\u001b[0m \u001b[0mtitle\u001b[0m\u001b[0;34m,\u001b[0m \u001b[0mname\u001b[0m\u001b[0;34m=\u001b[0m\u001b[0;34m\"\"\u001b[0m\u001b[0;34m)\u001b[0m\u001b[0;34m:\u001b[0m\u001b[0;34m\u001b[0m\u001b[0;34m\u001b[0m\u001b[0m\n\u001b[0;32m---> 25\u001b[0;31m         \u001b[0mavg_hbonds_per_chain\u001b[0m \u001b[0;34m=\u001b[0m \u001b[0mround\u001b[0m\u001b[0;34m(\u001b[0m\u001b[0msum\u001b[0m\u001b[0;34m(\u001b[0m\u001b[0mdf\u001b[0m\u001b[0;34m[\u001b[0m\u001b[0mcolumn\u001b[0m\u001b[0;34m.\u001b[0m\u001b[0mreplace\u001b[0m\u001b[0;34m(\u001b[0m\u001b[0;34m'chains'\u001b[0m\u001b[0;34m,\u001b[0m \u001b[0;34m'hbonds'\u001b[0m\u001b[0;34m)\u001b[0m\u001b[0;34m]\u001b[0m\u001b[0;34m)\u001b[0m\u001b[0;34m/\u001b[0m\u001b[0msum\u001b[0m\u001b[0;34m(\u001b[0m\u001b[0mdf\u001b[0m\u001b[0;34m[\u001b[0m\u001b[0mcolumn\u001b[0m\u001b[0;34m]\u001b[0m\u001b[0;34m)\u001b[0m\u001b[0;34m,\u001b[0m \u001b[0;36m4\u001b[0m\u001b[0;34m)\u001b[0m\u001b[0;34m\u001b[0m\u001b[0;34m\u001b[0m\u001b[0m\n\u001b[0m\u001b[1;32m     26\u001b[0m         \u001b[0mprint\u001b[0m\u001b[0;34m(\u001b[0m\u001b[0mavg_hbonds_per_chain\u001b[0m\u001b[0;34m)\u001b[0m\u001b[0;34m\u001b[0m\u001b[0;34m\u001b[0m\u001b[0m\n\u001b[1;32m     27\u001b[0m         \u001b[0mfig\u001b[0m \u001b[0;34m=\u001b[0m \u001b[0mplt\u001b[0m\u001b[0;34m.\u001b[0m\u001b[0mfigure\u001b[0m\u001b[0;34m(\u001b[0m\u001b[0;34m)\u001b[0m\u001b[0;34m\u001b[0m\u001b[0;34m\u001b[0m\u001b[0m\n",
      "\u001b[0;31mZeroDivisionError\u001b[0m: division by zero"
     ],
     "ename": "ZeroDivisionError",
     "evalue": "division by zero",
     "output_type": "error"
    }
   ],
   "source": [
    "# xprm_list = ['xray/']\n",
    "xprm_list = ['xray/', 'EM/']\n",
    "filename = 'chain_summary_calculated.csv'\n",
    "\n",
    "import pandas as pd\n",
    "from matplotlib import pyplot as plt\n",
    "import cufflinks as cf\n",
    "\n",
    "for expr in xprm_list:\n",
    "    path = '/Users/tkimura/Desktop/RNP/check_contact/chain_summary/' + expr\n",
    "    ###################################################\n",
    "    # histogram\n",
    "    ####################################################\n",
    "    def plot_hist(df,column, name):\n",
    "        fig = plt.figure()\n",
    "        df[column].plot.hist(bins=39, range=(1,100))\n",
    "        plt.title(f'{name}')\n",
    "        plt.show()\n",
    "        fig.savefig(f'{path}{name}.png', dpi=1200)\n",
    "    \n",
    "    ####################################################\n",
    "    # pie chart (maybe this is better)\n",
    "    ####################################################\n",
    "    def plot_pie(df, column, title, name=\"\"):\n",
    "        avg_hbonds_per_chain = round(sum(df[column.replace('chains', 'hbonds')])/sum(df[column]), 4)\n",
    "        print(avg_hbonds_per_chain)\n",
    "        fig = plt.figure()\n",
    "        if 'model' in column:\n",
    "            start = 0\n",
    "        else:\n",
    "            start = 1\n",
    "        label_num = len(df[column].value_counts().sort_index()[start:])\n",
    "        plt.title(f'{title}')\n",
    "        labellist = []\n",
    "        for i in range(0, label_num):\n",
    "            if i <=3:\n",
    "                labellist.append(df[column].value_counts().sort_index().index[i+start])\n",
    "            else:\n",
    "                labellist.append('')\n",
    "        plt.pie(df[column].value_counts()[start:], labels=labellist, textprops={'fontsize': 12})\n",
    "        plt.legend(df[column].value_counts().sort_index()[start:].index,loc=5, ncol=2, bbox_to_anchor=(-0, 1))\n",
    "        plt.text(-1, -1.45, f'The Average Number of Hydrogen \\nBonds per Chain is {avg_hbonds_per_chain}')\n",
    "        plt.show()\n",
    "        fig.savefig(f'{path}{name}.jpg', dpi=500, bbox_inches=\"tight\")\n",
    "\n",
    "    file = path + filename\n",
    "    df = pd.read_csv(file)\n",
    "    df_p = df.loc[df['type'] == 'p']\n",
    "    df_r = df.loc[df['type'] == 'r']\n",
    "    \n",
    "    # -------------------------------\n",
    "    # chain counts\n",
    "    # -------------------------------\n",
    "    p_chain_counts = df_p['type'].count()\n",
    "    plot_pie(df_r, 'p_chains', f'A Number of Protein Chains in \\nContact with an RNA Chain\\n({p_chain_counts} RNA Chains)', 'r_to_np')\n",
    "    \n",
    "    r_chain_counts = df_r['type'].count()\n",
    "    plot_pie(df_p, 'r_chains', f'A Number of RNA Chains in \\nContact with a Protein Chain\\n({r_chain_counts} Protein Chains)', 'p_to_nr')\n",
    "    \n",
    "    p_chain_counts = df_p['type'].count()\n",
    "    plot_pie(df_p, 'p_chains', f'A Number of Protein Chains in \\nContact with a Protein Chain\\n({p_chain_counts} RNA Chains)', 'p_to_np')\n",
    "    \n",
    "    r_chain_counts = df_r['type'].count()\n",
    "    plot_pie(df_r, 'r_chains', f'A Number of RNA Chains in \\nContact with an RNA Chain\\n({r_chain_counts} Protein Chains)', 'r_to_nr')\n",
    "    \n",
    "    # 'pdbid', 'chain', 'type', 'r_chains', 'r_hbonds', 'avg_r_hbonds',\n",
    "    #        'p_chains', 'p_hbonds', 'avg_p_hbonds', 'models', 'models_hbonds'\n",
    "    \n",
    "    # -------------------------------\n",
    "    # avg. hbond counts per chain\n",
    "    # -------------------------------\n",
    "    plot_hist(df_p, 'avg_r_hbonds', 'Average Counts of Hydrogen Bonds per RNA chain in contact')\n",
    "    plot_hist(df_r, 'avg_p_hbonds', 'Average Counts of Hydrogen Bonds per Protein chain in contact')\n",
    "    \n",
    "    # -------------------------------\n",
    "    # models\n",
    "    # -------------------------------\n",
    "    plot_pie(df_p, 'models', 'Numebr of Models in Contact\\n with a Protein Chain', 'models_per_pchain')\n",
    "    plot_pie(df_r, 'models', 'Numebr of Models in Contact\\n with an RNA Chain', 'models_per_rchain')\n",
    "    plot_hist(df_r, 'models_hbonds', 'Average Counts of Hydrogen Bonds \\nof the central model')\n",
    "plt.close()"
   ]
  }
 ],
 "metadata": {
  "language_info": {
   "codemirror_mode": {
    "name": "ipython",
    "version": 2
   },
   "file_extension": ".py",
   "mimetype": "text/x-python",
   "name": "python",
   "nbconvert_exporter": "python",
   "pygments_lexer": "ipython2",
   "version": "2.7.6"
  },
  "kernelspec": {
   "name": "python3",
   "language": "python",
   "display_name": "Python 3"
  },
  "pycharm": {
   "stem_cell": {
    "cell_type": "raw",
    "source": [],
    "metadata": {
     "collapsed": false
    }
   }
  }
 },
 "nbformat": 4,
 "nbformat_minor": 0
}