{
 "cells": [
  {
   "cell_type": "code",
   "execution_count": 12,
   "metadata": {
    "collapsed": true,
    "pycharm": {
     "name": "#%%\n",
     "is_executing": false
    }
   },
   "outputs": [
    {
     "data": {
      "text/plain": "<Figure size 432x288 with 2 Axes>",
      "image/png": "[encoded data removed]"
     },
     "metadata": {
      "needs_background": "light"
     },
     "output_type": "display_data"
    }
   ],
   "source": [
    "posi_path = '/Users/tkimura/Desktop/RNP/svm/svm_out_normed_ori.csv'\n",
    "figpath =  '/Users/tkimura/Desktop/RNP/check_contact/UMAP/all.png'\n",
    "from scipy.sparse.csgraph import connected_components\n",
    "import umap, numpy as np\n",
    "from sklearn.datasets import load_digits\n",
    "from scipy.sparse.csgraph import connected_components\n",
    "import matplotlib.pyplot as plt\n",
    "import matplotlib.cm as cm\n",
    "from sklearn.manifold import TSNE\n",
    "import numba\n",
    "from numba import njit\n",
    "\n",
    "uscls = tuple(range(7, 85))\n",
    "# print(uscls)\n",
    "\n",
    "@numba.njit()\n",
    "def red_channel_dist(a,b):\n",
    "    return np.abs(a[0] - b[0])\n",
    "\n",
    "def run_UMAP(input_file):\n",
    "    vec_data = np.loadtxt(input_file, delimiter=',', usecols=uscls, skiprows=1)\n",
    "    reducer = umap.UMAP(n_neighbors=5)\n",
    "    # label_data = np.loadtxt(input_file, delimiter=',', usecols=0, skiprows=1)\n",
    "    label_data = np.loadtxt(input_file, delimiter=',', usecols=0, skiprows=1, dtype='str')\n",
    "    \n",
    "    embedding = reducer.fit_transform(vec_data)\n",
    "    fig = plt.figure()\n",
    "    # plt.scatter(embedding[:, 0], embedding[:, 1], c=label_data, cmap='tab20c', s=10, alpha=0.5)\n",
    "    plt.scatter(embedding[:, 0], embedding[:, 1], cmap='tab20c', s=0.1, alpha=0.5)\n",
    "    plt.colorbar()\n",
    "    # for i in range(embedding.shape[0]):\n",
    "    #     plt.text(embedding[i,0], embedding[i,1], str(label_data[i]), fontsize=2)\n",
    "    fig.savefig(figpath, dpi=1200)\n",
    "\n",
    "run_UMAP(posi_path)"
   ]
  }
 ],
 "metadata": {
  "language_info": {
   "codemirror_mode": {
    "name": "ipython",
    "version": 2
   },
   "file_extension": ".py",
   "mimetype": "text/x-python",
   "name": "python",
   "nbconvert_exporter": "python",
   "pygments_lexer": "ipython2",
   "version": "2.7.6"
  },
  "kernelspec": {
   "name": "python3",
   "language": "python",
   "display_name": "Python 3"
  },
  "pycharm": {
   "stem_cell": {
    "cell_type": "raw",
    "source": [],
    "metadata": {
     "collapsed": false
    }
   }
  }
 },
 "nbformat": 4,
 "nbformat_minor": 0
}